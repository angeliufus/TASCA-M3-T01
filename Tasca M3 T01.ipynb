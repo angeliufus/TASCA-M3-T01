{
 "cells": [
  {
   "cell_type": "markdown",
   "id": "477e4104",
   "metadata": {},
   "source": [
    "## Exercici 1\n",
    "Crea una funció que donat un Array d’una dimensió, et faci un resum estadístic bàsic de les dades. Si detecta que l’array té més d’una dimensió, ha de mostrar un missatge d’error.\n",
    "\n"
   ]
  },
  {
   "cell_type": "code",
   "execution_count": null,
   "id": "f2494aab",
   "metadata": {},
   "outputs": [],
   "source": [
    "# De nou no em queda clar amb l'enunciat si demana que li demanis al usuari el array. AiXi que l'he fet de dos formes\n",
    "## 1.- Demanant al usuari:\n",
    "\n",
    "import numpy as np \n",
    "# crido al usuari entrar un array d'una dimensió amb nombres separats amb espais\n",
    "x = np.array(input('Entra un array, de números sencers separats per espais: ').split(), dtype=int)\n",
    "print(x)\n",
    "if len(x.shape) > 1:\n",
    "    print(\"Error: El array té més d'una dimensió.\")\n",
    "\n",
    "#Defineixo el resum estadístic amb les funcions bàsiques:\n",
    "def resum_estadistic(x):\n",
    "    \n",
    "    result = {}\n",
    "    result['n'] = len(x) # numero de valors \n",
    "    result['min'] = np.min(x) # valor minim \n",
    "    result['max'] = np.max(x) # valor màxim\n",
    "    result['mean'] = np.mean(x) # valor mitjana\n",
    "    result['median'] = np.median(x) # valor mediana \n",
    "    result['std'] = np.std(x) # valor desviació estàndard\n",
    "    result['var'] = np.var(x) # valor variànça\n",
    "    return result\n",
    "    \n",
    "resultat = resum_estadistic(x)\n",
    "print(resultat)\n",
    "\n",
    "\n",
    "\n",
    "\n"
   ]
  },
  {
   "cell_type": "code",
   "execution_count": 3,
   "id": "c679e200",
   "metadata": {},
   "outputs": [
    {
     "name": "stdout",
     "output_type": "stream",
     "text": [
      "Resum estadístic:\n",
      "Mínim:  2\n",
      "Màxim:  101\n",
      "Mitjana:  38.8\n",
      "Mediana:  25.0\n",
      "Desviació estàndard:  37.84917436351815\n",
      "Variància:  1432.56\n"
     ]
    }
   ],
   "source": [
    "## 2.- Posant jo el array/vector \n",
    "\n",
    "import numpy as np \n",
    "def resum_estadistic(meuarray):\n",
    "    if len(meuarray.shape) > 1:\n",
    "        print(\"Error: La matriu té més d'una dimensió.\")\n",
    "    else:\n",
    "        print(\"Resum estadístic:\")\n",
    "        print(\"Mínim: \", np.min(meuarray))\n",
    "        print(\"Màxim: \", np.max(meuarray))\n",
    "        print(\"Mitjana: \", np.mean(meuarray))  \n",
    "        print(\"Mediana: \", np.median(meuarray))\n",
    "        print(\"Desviació estàndard: \", np.std(meuarray))\n",
    "        print(\"Variància: \", np.var(meuarray))\n",
    "\n",
    "# Exemple que li dono jo\n",
    "meuarray = np.array([25, 2, 62, 4, 101])\n",
    "resum_estadistic(meuarray)\n",
    "\n",
    "\n",
    "\n",
    "\n"
   ]
  },
  {
   "cell_type": "markdown",
   "id": "1d67ac61",
   "metadata": {},
   "source": [
    "## Exercici 2\n",
    "Crea una funció que et generi un quadrat NxN de nombres aleatoris entre el 0 i el 100.\n",
    "\n"
   ]
  },
  {
   "cell_type": "code",
   "execution_count": 5,
   "id": "ef37bf8f",
   "metadata": {},
   "outputs": [
    {
     "name": "stdout",
     "output_type": "stream",
     "text": [
      "[[37 76 77 72 15]\n",
      " [73 19 34 53  7]\n",
      " [17 74 75 39 41]\n",
      " [88 63 56  9 13]\n",
      " [76 95 31 21 88]]\n"
     ]
    }
   ],
   "source": [
    "import numpy as np\n",
    "from numpy import random #de Numpy importo el modul random\n",
    "R = random.randint(100, size=(5, 5)) #li dic que agafi numeros sencers aleatoris del 1 al 100 i d'un tamany 5x5\n",
    "print(R)"
   ]
  },
  {
   "cell_type": "markdown",
   "id": "f8bcb85d",
   "metadata": {},
   "source": [
    "## Exercici 3\n",
    "Crea una funció que donada una taula de dues dimensions (NxM), et calculi els totals per fila i els totals per columna.\n",
    "\n"
   ]
  },
  {
   "cell_type": "code",
   "execution_count": 7,
   "id": "57a13e38",
   "metadata": {},
   "outputs": [
    {
     "name": "stdout",
     "output_type": "stream",
     "text": [
      "[[ 3 42  9 86 72]\n",
      " [33 21 79 94  7]]\n",
      "Total per columna: [[ 36  63  88 180  79]]\n",
      "Total per fila: [[212 234]]\n"
     ]
    }
   ],
   "source": [
    "import numpy as np\n",
    "from numpy import random #de Numpy importo el modul random\n",
    "F = random.randint(100, size=(2, 5)) #li dic que agafi numeros sencers aleatoris del 1 al 100 i d'un tamany 2x5\n",
    "print(F)\n",
    "totalcol = np.sum([F], axis=1) #li dic que sumi el axis 1 que e2 el vertical\n",
    "print(\"Total per columna:\", totalcol) \n",
    "totalfil = np.sum([F], axis=2) #li dic que sumi el axis 1 que es el horitzontal\n",
    "print (\"Total per fila:\", totalfil) "
   ]
  },
  {
   "cell_type": "markdown",
   "id": "92d95cb1",
   "metadata": {},
   "source": [
    "## Exercici 4\n",
    "Implementa manualment una funció que calculi el coeficient de correlació. Informa-te'n sobre els seus usos i interpretació.\n"
   ]
  },
  {
   "cell_type": "code",
   "execution_count": 15,
   "id": "634cf027",
   "metadata": {},
   "outputs": [
    {
     "name": "stdout",
     "output_type": "stream",
     "text": [
      "La temperatura dels 4 trimestres es: [12 21 32  9]\n",
      "El preu de la factura dels 4 trimestres es: [ 34  74 120  23]\n",
      "En aquest exemple el coeficient de correlació es gairebé perfecte, molt proper a 1: 0.9998229303801593\n",
      "Per veure si es correcte el càlcul manual que he fet, faig la formula en python (np.corroef), Coeficient de correlació: 0.9998229303801592\n"
     ]
    }
   ],
   "source": [
    "## El coeficient de correlació cuantifica la relació lineal de dos variables entre si, respecte la mitja.\n",
    "## Els seus valors varien entre el 1 (si te una correlacio lineal perfecte i si incrementen alhora) i el -1 \n",
    "##(si es totalment a la inversa, quan un puja l'altre baixa)\n",
    "\n",
    "import numpy as np\n",
    "def coeficient_correlacio(arraytemperatura, arraypreus): \n",
    "   \n",
    "    \n",
    "    ## El primer que hem de fer es calcular les mitjanes \n",
    "    ## Mitjana de les temperatura\n",
    "    mitjana_temperatura = np.mean(arraytemperatura)\n",
    "    mitjana_preus = np.mean(arraypreus)\n",
    "  \n",
    "    ## Ara restem cada valor de la mitja \n",
    "    temprestantmitja= np.subtract(arraytemperatura, mitjana_temperatura)\n",
    "    factrestantmitja= np.subtract(arraypreus, mitjana_preus)\n",
    "\n",
    "    ####### i ara per tenir el numerador de la fórmula: \n",
    "    ####### ∑((valor llista 1-mitjana llista 1)X(valor llista 2 -mitjana llista2))\n",
    "\n",
    "    ## multipliquem els valors d'aquestes dues arrays \n",
    "    numerador = np.multiply(temprestantmitja, factrestantmitja)\n",
    "   \n",
    "    ## sumem el les diferencies respecte la mitja multiplicades\n",
    "    total= np.sum(numerador)\n",
    "    \n",
    "    ####### i ara per tenir el denominador de la fórmula: \n",
    "    ####### √ Σ(((valor llista 1-mitjana llista 1)elevat al quadrat) X(valor llista 2-mitjana llista 2)elevat al quadrat)))\n",
    "    \n",
    "    ## primer elevem al quadrat el array que hem restat la mitja de temperatura a la temperatura)\n",
    "    quadrattemperatura = temprestantmitja ** 2\n",
    "    quadratfact = factrestantmitja ** 2\n",
    "    \n",
    "    ## ara sumem aquests 2 arrays dels quadrats de temperatura i facturació\n",
    "    totalquadrattemp = np.sum(quadrattemperatura)\n",
    "    totalquadratfact = np.sum(quadratfact)\n",
    "    \n",
    "    ## Els multipliquem \n",
    "    totalmultiplicacio = totalquadrattemp * totalquadratfact\n",
    "\n",
    "    ## i d'aquesta suma li fem l'arrel quadrada\n",
    "    arrelquadrada = np.sqrt(totalmultiplicacio)\n",
    "    \n",
    "    coeficient_correlacio = total / arrelquadrada\n",
    "    return coeficient_correlacio\n",
    "\n",
    "###### Per tant el coeficient de correlació d'aquest exemple seria el numerador (total) dividit entre \n",
    "##### el denominador, que en aquest cas l'he anomenat (arrelquadrada)\n",
    "\n",
    "#Posem un exemple amb 2 arrays: temperatura durant els 4 trimestres\n",
    "arraytemperatura = np.array([12,21,32,9]) \n",
    "#I els totals de la factura electrica \n",
    "arraypreus = np.array([34,74,120,23]) \n",
    "print(\"La temperatura dels 4 trimestres es:\" , arraytemperatura)\n",
    "print(\"El preu de la factura dels 4 trimestres es:\", arraypreus)\n",
    "\n",
    "# Cridem a la funció per aquest exemple\n",
    "exemple=coeficient_correlacio(arraytemperatura, arraypreus)\n",
    "\n",
    "    \n",
    "print (\"En aquest exemple el coeficient de correlació es gairebé perfecte, molt proper a 1:\", exemple)\n",
    "correlation_coef = np.corrcoef(arraytemperatura, arraypreus)[0, 1]\n",
    "print(\"Per veure si es correcte el càlcul manual que he fet, faig la formula en python (np.corroef), Coeficient de correlació:\", correlation_coef)\n",
    "    "
   ]
  },
  {
   "cell_type": "code",
   "execution_count": 7,
   "id": "36b8d4cf",
   "metadata": {},
   "outputs": [
    {
     "name": "stdout",
     "output_type": "stream",
     "text": [
      "La temperatura dels 4 trimestres es: [12 21 32  9]\n",
      "El preu de la factura dels 4 trimestres es: [ 34  74 120  23]\n",
      "Mitjana de la temperatura durant l'any:  18.5\n",
      "Mitjana de la factura elèctrica durant l'any:  62.75\n",
      "Si li restem la mitja de temp a la temperatura: [-6.5  2.5 13.5 -9.5]\n",
      "Si li restem la mitja de preu als preus : [-28.75  11.25  57.25 -39.75]\n",
      "Les diferencies respecte la mitja multiplicades son: [186.875  28.125 772.875 377.625]\n",
      "Les diferencies respecte la mitja multiplicades i sumades, per tenir el numerador son: 1365.5\n",
      "El quadrat de la diferencia de temperatura a la mitja es: [ 42.25   6.25 182.25  90.25]\n",
      "El quadrat de la diferencia de facturació a la mitja es: [ 826.5625  126.5625 3277.5625 1580.0625]\n",
      "El array dels quadrats de temperatura suma: 321.0\n",
      "El array dels quadrats de facturació suma: 5810.75\n",
      "Multipliquem la suma anterior: 1865250.75\n",
      "I fem l'arrel quadrada al total anterior per tenir el total del denominador 1365.741831386884\n",
      "1365.741831386884\n",
      "En aquest exemple el coeficient de correlació es gairebé perfecte: 0.9998229303801593 quan la temperatura puja el preu de la electricitat puja, per tant, podriem dir que les variables estan correlacionades, seria una representació gràfica d'una funció pràcticament lineal\n",
      "Per veure si es correcte el càlcul manual, faig la formula en python np.corroef, Coeficient de correlació: 0.9998229303801592\n"
     ]
    }
   ],
   "source": [
    "### Per fer aquest exercici,he fet primer un exemple per veure si me'n sortia i el poso aqui , seguint jo la formula pas a pas :)\n",
    " \n",
    "arraytemperatura = np.array([12,21,32,9]) #Aquesta seria la temperatura durant els 4 trimestres\n",
    "arraypreus = np.array([34,74,120,23]) #Aquest serien els totals de la factura electrica \n",
    "print(\"La temperatura dels 4 trimestres es:\" ,arraytemperatura)\n",
    "print(\"El preu de la factura dels 4 trimestres es:\",arraypreus)\n",
    "    \n",
    "\n",
    "print(\"Mitjana de la temperatura durant l'any: \", np.mean(arraytemperatura)) \n",
    "print(\"Mitjana de la factura elèctrica durant l'any: \", np.mean(arraypreus)) \n",
    "## Ara restem cada valor de la mitja \n",
    "temprestantmitja= np.subtract(arraytemperatura, np.mean(arraytemperatura))\n",
    "factrestantmitja= np.subtract(arraypreus, np.mean(arraypreus))\n",
    "\n",
    "print(\"Si li restem la mitja de temp a la temperatura:\",temprestantmitja)\n",
    "print(\"Si li restem la mitja de preu als preus :\",factrestantmitja)\n",
    "####### i ara per tenir el numerador de la fórmula: \n",
    "####### ∑((valor llista 1-mitjana llista 1)X(valor llista 2 -mitjana llista2))\n",
    "\n",
    "## multipliquem els valors d'aquestes dues arrays \n",
    "numerador = np.multiply(temprestantmitja, factrestantmitja)\n",
    "print (\"Les diferencies respecte la mitja multiplicades son:\",numerador)\n",
    "## sumem el les diferencies respecte la mitja multiplicades\n",
    "total= np.sum(numerador)\n",
    "print (\"Les diferencies respecte la mitja multiplicades i sumades, per tenir el numerador son:\",(total))\n",
    "\n",
    "####### i ara per tenir el denominador de la fórmula: \n",
    "####### √ Σ(((valor llista 1-mitjana llista 1)elevat al quadrat) X(valor llista 2-mitjana llista 2)elevat al quadrat)))\n",
    "    \n",
    "## primer elevem al quadrat el array que hem restat la mitja de temperatura a la temperatura)\n",
    "quadrattemperatura = temprestantmitja ** 2\n",
    "quadratfact = factrestantmitja ** 2\n",
    "print (\"El quadrat de la diferencia de temperatura a la mitja es:\", quadrattemperatura)\n",
    "print (\"El quadrat de la diferencia de facturació a la mitja es:\", quadratfact)\n",
    "    \n",
    "## ara sumem aquests 2 arrays dels quadrats de temperatura i facturació\n",
    "totalquadrattemp = np.sum(quadrattemperatura)\n",
    "totalquadratfact = np.sum(quadratfact)\n",
    "print(\"El array dels quadrats de temperatura suma:\",totalquadrattemp)\n",
    "print(\"El array dels quadrats de facturació suma:\",totalquadratfact)\n",
    "\n",
    "## Els multipliquem \n",
    "totalmultiplicacio = totalquadrattemp * totalquadratfact\n",
    "print (\"Multipliquem la suma anterior:\",totalmultiplicacio)\n",
    "\n",
    "## i d'aquesta multiplicació li faig l'arrel quadrada (sense importar el modul math)\n",
    "arrelquadrada = totalmultiplicacio **.5\n",
    "arrelquadrada2 = np.sqrt(totalmultiplicacio)\n",
    "print(\"I fem l'arrel quadrada al total anterior per tenir el total del denominador\",arrelquadrada)\n",
    "print(arrelquadrada2)\n",
    "\n",
    "###### Per tant el coeficient de correlació d'aquest exemple seria el numerador (total) dividit entre \n",
    "##### el denominador, que en aquest cas l'he anomenat (arrelquadrada)\n",
    "\n",
    "coeficient_correlacio = total / arrelquadrada\n",
    "\n",
    "print (\"En aquest exemple el coeficient de correlació es gairebé perfecte:\", coeficient_correlacio, \"quan la temperatura puja el preu de la electricitat puja, per tant, podriem dir que les variables estan correlacionades, seria una representació gràfica d'una funció pràcticament lineal\")\n",
    "\n",
    "### comprovo amb la formula a python que el meu càlcul sigui correcte:\n",
    "correlation_coef = np.corrcoef(arraytemperatura, arraypreus)[0, 1]\n",
    "print(\"Per veure si es correcte el càlcul manual, faig la formula en python np.corroef, Coeficient de correlació:\", correlation_coef)\n",
    "    \n",
    "\n",
    "\n",
    "\n"
   ]
  },
  {
   "cell_type": "code",
   "execution_count": null,
   "id": "583e12e7",
   "metadata": {},
   "outputs": [],
   "source": []
  },
  {
   "cell_type": "code",
   "execution_count": null,
   "id": "32061858",
   "metadata": {},
   "outputs": [],
   "source": []
  },
  {
   "cell_type": "code",
   "execution_count": null,
   "id": "d840d2c9",
   "metadata": {},
   "outputs": [],
   "source": []
  }
 ],
 "metadata": {
  "kernelspec": {
   "display_name": "Python 3 (ipykernel)",
   "language": "python",
   "name": "python3"
  },
  "language_info": {
   "codemirror_mode": {
    "name": "ipython",
    "version": 3
   },
   "file_extension": ".py",
   "mimetype": "text/x-python",
   "name": "python",
   "nbconvert_exporter": "python",
   "pygments_lexer": "ipython3",
   "version": "3.9.12"
  }
 },
 "nbformat": 4,
 "nbformat_minor": 5
}
